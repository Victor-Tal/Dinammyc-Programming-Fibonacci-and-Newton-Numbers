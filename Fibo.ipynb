{
  "nbformat": 4,
  "nbformat_minor": 0,
  "metadata": {
    "colab": {
      "provenance": [],
      "include_colab_link": true
    },
    "kernelspec": {
      "name": "python3",
      "display_name": "Python 3"
    },
    "language_info": {
      "name": "python"
    }
  },
  "cells": [
    {
      "cell_type": "markdown",
      "metadata": {
        "id": "view-in-github",
        "colab_type": "text"
      },
      "source": [
        "<a href=\"https://colab.research.google.com/github/Victor-Tal/Dinammyc-Programming-Fibonacci-and-Newton-Numbers/blob/main/Fibo.ipynb\" target=\"_parent\"><img src=\"https://colab.research.google.com/assets/colab-badge.svg\" alt=\"Open In Colab\"/></a>"
      ]
    },
    {
      "cell_type": "markdown",
      "source": [
        "#Victor Hugo Cordero\n",
        "<hr>"
      ],
      "metadata": {
        "id": "UiinE1ZY49I9"
      }
    },
    {
      "cell_type": "markdown",
      "source": [
        "## Fibonacci"
      ],
      "metadata": {
        "id": "XlZM926b1jSW"
      }
    },
    {
      "cell_type": "code",
      "execution_count": null,
      "metadata": {
        "colab": {
          "base_uri": "https://localhost:8080/"
        },
        "id": "bi2Y8kx7hw7q",
        "outputId": "0a3d16f7-1937-4edd-c579-cc285717f3f7"
      },
      "outputs": [
        {
          "output_type": "stream",
          "name": "stdout",
          "text": [
            "Calculando para  5\n",
            "Calculando para  4\n",
            "Calculando para  3\n",
            "Calculando para  2\n",
            "Calculando para  1\n",
            "Calculando para  0\n",
            "Calculando para  1\n",
            "Calculando para  2\n",
            "Calculando para  1\n",
            "Calculando para  0\n",
            "Calculando para  3\n",
            "Calculando para  2\n",
            "Calculando para  1\n",
            "Calculando para  0\n",
            "Calculando para  1\n"
          ]
        },
        {
          "output_type": "execute_result",
          "data": {
            "text/plain": [
              "8"
            ]
          },
          "metadata": {},
          "execution_count": 8
        }
      ],
      "source": [
        "def fibo(n):\n",
        "  print(\"Calculando para \", n)\n",
        "  if n <= 1:\n",
        "    return 1\n",
        "  else:\n",
        "    return fibo(n-1) + fibo(n-2)\n",
        "\n",
        "\n",
        "fibo(5)"
      ]
    },
    {
      "cell_type": "code",
      "source": [
        "F = 101*[-1]\n",
        "F[0] = 1\n",
        "F[1] = 1\n",
        "\n",
        "def fiboA(n, F):\n",
        "  #print(\"Calculando para \", n)\n",
        "  if F[n] != -1:\n",
        "    return F[n]\n",
        "\n",
        "  if n <= 1:\n",
        "    return 1\n",
        "  else:\n",
        "    F[n] = fiboA(n-1,F) + fiboA(n-2,F)\n",
        "    return F[n]\n",
        "\n",
        "\n",
        "fiboA(100,F)"
      ],
      "metadata": {
        "colab": {
          "base_uri": "https://localhost:8080/"
        },
        "id": "ge5HpmeHiKe3",
        "outputId": "42766e3a-8d48-4a07-8a52-e915aeb53354"
      },
      "execution_count": null,
      "outputs": [
        {
          "output_type": "stream",
          "name": "stdout",
          "text": [
            "Calculando para  100\n",
            "Calculando para  99\n",
            "Calculando para  98\n",
            "Calculando para  97\n",
            "Calculando para  96\n",
            "Calculando para  95\n",
            "Calculando para  94\n",
            "Calculando para  93\n",
            "Calculando para  92\n",
            "Calculando para  91\n",
            "Calculando para  90\n",
            "Calculando para  89\n",
            "Calculando para  88\n",
            "Calculando para  87\n",
            "Calculando para  86\n",
            "Calculando para  85\n",
            "Calculando para  84\n",
            "Calculando para  83\n",
            "Calculando para  82\n",
            "Calculando para  81\n",
            "Calculando para  80\n",
            "Calculando para  79\n",
            "Calculando para  78\n",
            "Calculando para  77\n",
            "Calculando para  76\n",
            "Calculando para  75\n",
            "Calculando para  74\n",
            "Calculando para  73\n",
            "Calculando para  72\n",
            "Calculando para  71\n",
            "Calculando para  70\n",
            "Calculando para  69\n",
            "Calculando para  68\n",
            "Calculando para  67\n",
            "Calculando para  66\n",
            "Calculando para  65\n",
            "Calculando para  64\n",
            "Calculando para  63\n",
            "Calculando para  62\n",
            "Calculando para  61\n",
            "Calculando para  60\n",
            "Calculando para  59\n",
            "Calculando para  58\n",
            "Calculando para  57\n",
            "Calculando para  56\n",
            "Calculando para  55\n",
            "Calculando para  54\n",
            "Calculando para  53\n",
            "Calculando para  52\n",
            "Calculando para  51\n",
            "Calculando para  50\n",
            "Calculando para  49\n",
            "Calculando para  48\n",
            "Calculando para  47\n",
            "Calculando para  46\n",
            "Calculando para  45\n",
            "Calculando para  44\n",
            "Calculando para  43\n",
            "Calculando para  42\n",
            "Calculando para  41\n",
            "Calculando para  40\n",
            "Calculando para  39\n",
            "Calculando para  38\n",
            "Calculando para  37\n",
            "Calculando para  36\n",
            "Calculando para  35\n",
            "Calculando para  34\n",
            "Calculando para  33\n",
            "Calculando para  32\n",
            "Calculando para  31\n",
            "Calculando para  30\n",
            "Calculando para  29\n",
            "Calculando para  28\n",
            "Calculando para  27\n",
            "Calculando para  26\n",
            "Calculando para  25\n",
            "Calculando para  24\n",
            "Calculando para  23\n",
            "Calculando para  22\n",
            "Calculando para  21\n",
            "Calculando para  20\n",
            "Calculando para  19\n",
            "Calculando para  18\n",
            "Calculando para  17\n",
            "Calculando para  16\n",
            "Calculando para  15\n",
            "Calculando para  14\n",
            "Calculando para  13\n",
            "Calculando para  12\n",
            "Calculando para  11\n",
            "Calculando para  10\n",
            "Calculando para  9\n",
            "Calculando para  8\n",
            "Calculando para  7\n",
            "Calculando para  6\n",
            "Calculando para  5\n",
            "Calculando para  4\n",
            "Calculando para  3\n",
            "Calculando para  2\n",
            "Calculando para  1\n",
            "Calculando para  0\n",
            "Calculando para  1\n",
            "Calculando para  2\n",
            "Calculando para  3\n",
            "Calculando para  4\n",
            "Calculando para  5\n",
            "Calculando para  6\n",
            "Calculando para  7\n",
            "Calculando para  8\n",
            "Calculando para  9\n",
            "Calculando para  10\n",
            "Calculando para  11\n",
            "Calculando para  12\n",
            "Calculando para  13\n",
            "Calculando para  14\n",
            "Calculando para  15\n",
            "Calculando para  16\n",
            "Calculando para  17\n",
            "Calculando para  18\n",
            "Calculando para  19\n",
            "Calculando para  20\n",
            "Calculando para  21\n",
            "Calculando para  22\n",
            "Calculando para  23\n",
            "Calculando para  24\n",
            "Calculando para  25\n",
            "Calculando para  26\n",
            "Calculando para  27\n",
            "Calculando para  28\n",
            "Calculando para  29\n",
            "Calculando para  30\n",
            "Calculando para  31\n",
            "Calculando para  32\n",
            "Calculando para  33\n",
            "Calculando para  34\n",
            "Calculando para  35\n",
            "Calculando para  36\n",
            "Calculando para  37\n",
            "Calculando para  38\n",
            "Calculando para  39\n",
            "Calculando para  40\n",
            "Calculando para  41\n",
            "Calculando para  42\n",
            "Calculando para  43\n",
            "Calculando para  44\n",
            "Calculando para  45\n",
            "Calculando para  46\n",
            "Calculando para  47\n",
            "Calculando para  48\n",
            "Calculando para  49\n",
            "Calculando para  50\n",
            "Calculando para  51\n",
            "Calculando para  52\n",
            "Calculando para  53\n",
            "Calculando para  54\n",
            "Calculando para  55\n",
            "Calculando para  56\n",
            "Calculando para  57\n",
            "Calculando para  58\n",
            "Calculando para  59\n",
            "Calculando para  60\n",
            "Calculando para  61\n",
            "Calculando para  62\n",
            "Calculando para  63\n",
            "Calculando para  64\n",
            "Calculando para  65\n",
            "Calculando para  66\n",
            "Calculando para  67\n",
            "Calculando para  68\n",
            "Calculando para  69\n",
            "Calculando para  70\n",
            "Calculando para  71\n",
            "Calculando para  72\n",
            "Calculando para  73\n",
            "Calculando para  74\n",
            "Calculando para  75\n",
            "Calculando para  76\n",
            "Calculando para  77\n",
            "Calculando para  78\n",
            "Calculando para  79\n",
            "Calculando para  80\n",
            "Calculando para  81\n",
            "Calculando para  82\n",
            "Calculando para  83\n",
            "Calculando para  84\n",
            "Calculando para  85\n",
            "Calculando para  86\n",
            "Calculando para  87\n",
            "Calculando para  88\n",
            "Calculando para  89\n",
            "Calculando para  90\n",
            "Calculando para  91\n",
            "Calculando para  92\n",
            "Calculando para  93\n",
            "Calculando para  94\n",
            "Calculando para  95\n",
            "Calculando para  96\n",
            "Calculando para  97\n",
            "Calculando para  98\n"
          ]
        },
        {
          "output_type": "execute_result",
          "data": {
            "text/plain": [
              "573147844013817084101"
            ]
          },
          "metadata": {},
          "execution_count": 3
        }
      ]
    },
    {
      "cell_type": "code",
      "source": [
        "F = 5001*[-1]\n",
        "F[0] = 1\n",
        "F[1] = 1\n",
        "\n",
        "def fiboC(n, F):\n",
        "  for i in range(2,n+1):\n",
        "    F[i] = F[i-1] + F[i-2]\n",
        "\n",
        "  return F[n]\n",
        "\n",
        "\n",
        "fiboC(5000,F)"
      ],
      "metadata": {
        "id": "v5p2cQrHieXP",
        "colab": {
          "base_uri": "https://localhost:8080/"
        },
        "outputId": "3d6d32a4-bb3d-4400-9666-a5531dfa469b"
      },
      "execution_count": null,
      "outputs": [
        {
          "output_type": "execute_result",
          "data": {
            "text/plain": [
              "6276302800488957086035253108349684055478528702736457439025824448927937256811663264475883711527806250329984690249846819800648580083040107584710332687596562185073640422286799239932615797105974710857095487342820351307477141875012176874307156016229965832589137779724973854362777629878229505500260477136108363709090010421536915488632339240756987974122598603591920306874926755600361865354330444681915154695741851960071089944015319300128574107662757054790648152751366475529121877212785489665101733755898580317984402963873738187000120737824193162011399200547424034440836239726275765901190914513013217132050988064832024783370583789324109052449717186857327239783000020791777804503930439875068662687670678802914269784817022567088069496231111407908953313902398529655056082228598715882365779469902465675715699187225655878240668599547496218159297881601061923195562143932693324644219266564617042934227893371179832389642895285401263875342640468017378925921483580111278055044254198382265567395946431803304304326865077742925818757370691726168228648841319231470626"
            ]
          },
          "metadata": {},
          "execution_count": 4
        }
      ]
    },
    {
      "cell_type": "code",
      "source": [
        "def fiboOp(n):\n",
        "  Fi_1 = 1\n",
        "  Fi_2 = 1\n",
        "\n",
        "  for i in range(2,n+1):\n",
        "    Fi = Fi_1 + Fi_2\n",
        "    Fi_2 = Fi_1\n",
        "    Fi_1 = Fi\n",
        "\n",
        "  return Fi\n",
        "\n",
        "\n",
        "fiboOp(5000)"
      ],
      "metadata": {
        "colab": {
          "base_uri": "https://localhost:8080/"
        },
        "id": "beX8iX-SM17I",
        "outputId": "bf331fc9-89de-442e-b65c-f11d6428d75f"
      },
      "execution_count": null,
      "outputs": [
        {
          "output_type": "execute_result",
          "data": {
            "text/plain": [
              "6276302800488957086035253108349684055478528702736457439025824448927937256811663264475883711527806250329984690249846819800648580083040107584710332687596562185073640422286799239932615797105974710857095487342820351307477141875012176874307156016229965832589137779724973854362777629878229505500260477136108363709090010421536915488632339240756987974122598603591920306874926755600361865354330444681915154695741851960071089944015319300128574107662757054790648152751366475529121877212785489665101733755898580317984402963873738187000120737824193162011399200547424034440836239726275765901190914513013217132050988064832024783370583789324109052449717186857327239783000020791777804503930439875068662687670678802914269784817022567088069496231111407908953313902398529655056082228598715882365779469902465675715699187225655878240668599547496218159297881601061923195562143932693324644219266564617042934227893371179832389642895285401263875342640468017378925921483580111278055044254198382265567395946431803304304326865077742925818757370691726168228648841319231470626"
            ]
          },
          "metadata": {},
          "execution_count": 5
        }
      ]
    },
    {
      "cell_type": "markdown",
      "source": [
        "## Binomio de Newton"
      ],
      "metadata": {
        "id": "6b0D9Whd1qae"
      }
    },
    {
      "cell_type": "code",
      "source": [
        "def factorial(n):\n",
        "  f = 1\n",
        "  for i in range(1,n+1):\n",
        "    f *= i\n",
        "  return f\n",
        "\n",
        "\n",
        "def BinNewtonF(n,k):\n",
        "  return factorial(n) / ( factorial(n-k) * factorial(k) )\n",
        "\n",
        "print(BinNewtonF(4,2))"
      ],
      "metadata": {
        "colab": {
          "base_uri": "https://localhost:8080/"
        },
        "id": "B2nSvNeYOALg",
        "outputId": "6fa0c6ce-e9fb-4798-a848-728412399be2"
      },
      "execution_count": null,
      "outputs": [
        {
          "output_type": "stream",
          "name": "stdout",
          "text": [
            "6.0\n"
          ]
        }
      ]
    },
    {
      "cell_type": "code",
      "source": [
        "import numpy as np\n",
        "\n",
        "def BinNewtonD(n,k):\n",
        "  NK = np.zeros((n+1,n+1))\n",
        "  for i in range(n+1):\n",
        "    NK[i,i] = 1\n",
        "    NK[i,0] = 1\n",
        "\n",
        "  for i in range(2,n+1):\n",
        "    for j in range(1,k+1):\n",
        "      NK[i,j] = NK[i-1,j] + NK[i-1,j-1]\n",
        "\n",
        "  return NK[n,k]\n",
        "\n",
        "BinNewtonD(1000,20)"
      ],
      "metadata": {
        "colab": {
          "base_uri": "https://localhost:8080/"
        },
        "id": "TZHm8deEUUPC",
        "outputId": "2fb3d572-fa6c-40a8-ff7a-f5feaf107b37"
      },
      "execution_count": null,
      "outputs": [
        {
          "output_type": "execute_result",
          "data": {
            "text/plain": [
              "3.3948281130245756e+41"
            ]
          },
          "metadata": {},
          "execution_count": 7
        }
      ]
    },
    {
      "cell_type": "markdown",
      "source": [
        "## Corte de una vara"
      ],
      "metadata": {
        "id": "3IULuIRa1vTv"
      }
    },
    {
      "cell_type": "code",
      "source": [
        "P = [0,1,5,8,9]\n",
        "def CV_R(P,n):\n",
        "  if n == 0:\n",
        "    return 0\n",
        "  \n",
        "  q = -1\n",
        "\n",
        "  for i in range(1,n+1):\n",
        "    q = max(q, P[i]+CV_R(P,n-i))\n",
        "  \n",
        "  return q\n",
        "\n",
        "\n",
        "print(CV_R(P,4))"
      ],
      "metadata": {
        "id": "MS8RIiaYVrLK",
        "colab": {
          "base_uri": "https://localhost:8080/"
        },
        "outputId": "0f0e361f-54ed-43a7-8901-f8d423ebfdfa"
      },
      "execution_count": null,
      "outputs": [
        {
          "output_type": "stream",
          "name": "stdout",
          "text": [
            "10\n"
          ]
        }
      ]
    },
    {
      "cell_type": "code",
      "source": [
        "P = [0,1,5,8,9]\n",
        "R = 5*[-1]\n",
        "\n",
        "def CV_R_A(P,n,R):\n",
        "  if R[n] >= 0:\n",
        "    return R[n]\n",
        "    \n",
        "  if n == 0:\n",
        "    q = 0\n",
        "  else:\n",
        "    q = -1\n",
        "\n",
        "    for i in range(1,n+1):\n",
        "      q = max(q, P[i]+CV_R_A(P,n-i,R))\n",
        "    \n",
        "  R[n] = q\n",
        "  return q\n",
        "\n",
        "\n",
        "print(CV_R_A(P,4,R))"
      ],
      "metadata": {
        "colab": {
          "base_uri": "https://localhost:8080/"
        },
        "id": "NEwlNJ524TsO",
        "outputId": "13ca5366-7cf3-46eb-9847-a4d5b2783772"
      },
      "execution_count": null,
      "outputs": [
        {
          "output_type": "stream",
          "name": "stdout",
          "text": [
            "10\n"
          ]
        }
      ]
    },
    {
      "cell_type": "code",
      "source": [
        "P = [0,1,5,8,9]\n",
        "R = 5*[0]\n",
        "\n",
        "def CV_D(P,n,R):\n",
        "  R[0] = 0\n",
        "  for i in range(1,n+1):\n",
        "    q = -1\n",
        "    for j in range(1,i+1):\n",
        "      q = max(q, P[j]+R[i-j])\n",
        "    R[i] = q\n",
        "  \n",
        "  return R[n]\n",
        "\n",
        "print(CV_D(P,4,R))"
      ],
      "metadata": {
        "colab": {
          "base_uri": "https://localhost:8080/"
        },
        "id": "FnrlKkmt8Sg3",
        "outputId": "b1213513-c605-40d3-b05e-fc2280e3f5d9"
      },
      "execution_count": null,
      "outputs": [
        {
          "output_type": "stream",
          "name": "stdout",
          "text": [
            "10\n"
          ]
        }
      ]
    },
    {
      "cell_type": "code",
      "source": [],
      "metadata": {
        "id": "T1GmFSHZCnH4"
      },
      "execution_count": null,
      "outputs": []
    }
  ]
}